{
 "cells": [
  {
   "cell_type": "markdown",
   "metadata": {
    "collapsed": true
   },
   "source": [
    "# Regression"
   ]
  },
  {
   "cell_type": "markdown",
   "metadata": {},
   "source": [
    "## Linear Regression\n",
    "\n",
    "#### Introduction \n",
    "An approach for modeling the relationship between a scalar dependent value _y_ and one or more explanatory values _x_. One or more explanatory values, the process is called multivariate linear regression.\n",
    "\n",
    "#### Practical Use\n",
    "- Prediction, forecasting, or error reduction\n",
    "- Given a variable _y_ and number of variables _x_ that may be related to _y_, linear regression analysis may be used to quanitfy the relationship between _x_ and _y_.\n",
    "\n",
    "#### Equation\n",
    "$ h_{\\theta}(x) = \\theta^T(x) $\n",
    "\n",
    "#### Example"
   ]
  },
  {
   "cell_type": "markdown",
   "metadata": {},
   "source": [
    "[!img](picture.png)"
   ]
  },
  {
   "cell_type": "markdown",
   "metadata": {},
   "source": [
    "## Logistic Regression\n",
    "\n",
    "$$ f(x) = x^2 $$\n",
    "$f(x) = x^2$\n",
    "#### Introduction \n",
    "A regression model where the dependent value is categorical.  \n",
    "\n",
    "\n",
    "#### Practical Use\n",
    "\n",
    "_italics_ **bold**\n",
    "\n",
    "#### Equation\n",
    "\n",
    "Sigmoid function(linear regression)\n",
    "\n",
    "$J(z) = \\frac{1}{1 + e^-z}$\n",
    "\n",
    "#### Example"
   ]
  },
  {
   "cell_type": "code",
   "execution_count": 1,
   "metadata": {
    "collapsed": true
   },
   "outputs": [],
   "source": [
    "import IPython"
   ]
  },
  {
   "cell_type": "code",
   "execution_count": 9,
   "metadata": {
    "collapsed": false,
    "scrolled": true
   },
   "outputs": [
    {
     "data": {
      "image/png": "c3JjLnBuZw==\n",
      "text/plain": [
       "<IPython.core.display.Image object>"
      ]
     },
     "execution_count": 9,
     "metadata": {},
     "output_type": "execute_result"
    }
   ],
   "source": [
    "IPython.display.Image(\"src.png\")"
   ]
  },
  {
   "cell_type": "code",
   "execution_count": 1,
   "metadata": {
    "collapsed": false
   },
   "outputs": [
    {
     "name": "stdout",
     "output_type": "stream",
     "text": [
      "Populating the interactive namespace from numpy and matplotlib\n"
     ]
    },
    {
     "data": {
      "image/png": "[encoded data removed]",
      "text/plain": [
       "<matplotlib.figure.Figure at 0x69b2080>"
      ]
     },
     "metadata": {},
     "output_type": "display_data"
    }
   ],
   "source": [
    "%pylab inline --no-import-all\n",
    "plt.plot([1,2,3,4])\n",
    "plt.ylabel(\"test\")\n",
    "plt.show()\n",
    "#np num py"
   ]
  },
  {
   "cell_type": "code",
   "execution_count": null,
   "metadata": {
    "collapsed": true
   },
   "outputs": [],
   "source": []
  },
  {
   "cell_type": "code",
   "execution_count": null,
   "metadata": {
    "collapsed": true
   },
   "outputs": [],
   "source": []
  }
 ],
 "metadata": {
  "kernelspec": {
   "display_name": "Python 2",
   "language": "python",
   "name": "python2"
  },
  "language_info": {
   "codemirror_mode": {
    "name": "ipython",
    "version": 2
   },
   "file_extension": ".py",
   "mimetype": "text/x-python",
   "name": "python",
   "nbconvert_exporter": "python",
   "pygments_lexer": "ipython2",
   "version": "2.7.11"
  }
 },
 "nbformat": 4,
 "nbformat_minor": 0
}
